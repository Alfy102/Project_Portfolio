{
 "cells": [
  {
   "cell_type": "code",
   "execution_count": 56,
   "metadata": {},
   "outputs": [
    {
     "name": "stdout",
     "output_type": "stream",
     "text": [
      "(13578, 10)\n",
      "Reading File\n",
      "Applying data frame\n"
     ]
    },
    {
     "name": "stderr",
     "output_type": "stream",
     "text": [
      "/home/koopla102/anaconda3/lib/python3.7/site-packages/ipykernel_launcher.py:51: UserWarning: Boolean Series key will be reindexed to match DataFrame index.\n",
      "/home/koopla102/anaconda3/lib/python3.7/site-packages/ipykernel_launcher.py:53: UserWarning: Boolean Series key will be reindexed to match DataFrame index.\n"
     ]
    }
   ],
   "source": [
    "import pandas as pd\n",
    "import array as arr\n",
    "import numpy as np\n",
    "import openpyxl as op\n",
    "import sys\n",
    "import optparse\n",
    "\n",
    "file_name = r'/mnt/d/MARS_TEST.xlsx'\n",
    "#file_name = \"/home/koopla102/Git/MARS_Auto_Segregate/MARS.xlsx\"\n",
    "data_frame=pd.read_excel(file_name)\n",
    "original_df=data_frame\n",
    "print(original_df.shape)\n",
    "print(\"Reading File\")\n",
    "original_column = data_frame.columns #place original sheet column inside this placeholder\n",
    "#Get true false value based on the specified condition and add new column. Most are using string contain function.\n",
    "data_frame['Mid'] = data_frame['Drawing No.'].str.split('-').str[1]\n",
    "data_frame['LCS'] = data_frame['Drawing No.'].str.contains(\"LCS\")\n",
    "data_frame['DN_LEN'] = data_frame['Drawing No.'].str.len() <= 12\n",
    "data_frame['System_No'] = data_frame['Drawing No.'].str[:5]\n",
    "data_frame['Modular_Supp'] = (data_frame['Mid'].str.contains(\"02\") & data_frame['Description'].str.contains(\"MODULAR\"))\n",
    "data_frame['Pipe_Supp'] = (data_frame['Mid'].str.contains(\"02\") & data_frame['Description'].str.contains(\"PIP\") & data_frame['Description'].str.contains(\"SUPPORT\"))\n",
    "data_frame['Electrical_Supp'] = (data_frame['Mid'].str.contains(\"02\") & data_frame['Description'].str.contains(\"ELECTRICAL\") & data_frame['Description'].str.contains(\"SUPPORT\"))\n",
    "data_frame['Axima_Duct'] = (data_frame['Drawing No.'].str.contains(\"LCS\") & data_frame['Drawing No.'].str.contains(\"51000\"))\n",
    "data_frame['Axima_Piping'] = (data_frame['Drawing No.'].str.contains(\"LCS\") & data_frame['Drawing No.'].str.contains(\"51610\"))\n",
    "print(\"Applying data frame\")\n",
    "#This section filter true value to the respected column in order to extract the wanted rows\n",
    "filter_str=data_frame['Modular_Supp']==True\n",
    "modular_df=data_frame[filter_str]\n",
    "filter_str=data_frame['Electrical_Supp']==True\n",
    "electrical_df=data_frame[filter_str]\n",
    "filter_str=data_frame['Pipe_Supp']==True\n",
    "pipe_df=data_frame[filter_str]\n",
    "filter_str=data_frame['Axima_Duct']==True\n",
    "axima_duc_df=data_frame[filter_str]\n",
    "filter_str=data_frame['Axima_Piping']==True\n",
    "axima_pip_df=data_frame[filter_str]\n",
    "#This section filter false value to the respected column in order to remove the unwanted rows from main data frame (family drawing)\n",
    "filter_str=data_frame['Modular_Supp']==False\n",
    "data_frame=data_frame[filter_str]\n",
    "filter_str=data_frame['Pipe_Supp']==False\n",
    "data_frame=data_frame[filter_str]\n",
    "filter_str=data_frame['Electrical_Supp']==False\n",
    "data_frame=data_frame[filter_str]\n",
    "filter_str=data_frame['Axima_Duct']==False\n",
    "data_frame=data_frame[filter_str]\n",
    "filter_str=data_frame['Axima_Piping']==False\n",
    "data_frame=data_frame[filter_str]\n",
    "filter_str=data_frame['LCS']==True\n",
    "lcs_df=data_frame[filter_str]\n",
    "filter_str=data_frame['DN_LEN']==True\n",
    "lcs_df_NG=lcs_df[filter_str]\n",
    "filter_str=data_frame['DN_LEN']==False\n",
    "lcs_df_OEM=lcs_df[filter_str]\n",
    "sheet_array=data_frame['Mid'].unique()\n",
    "cleanedList = [x for x in sheet_array if str(x) != 'nan']\n",
    "sheet_list = [s for s in cleanedList if len(s) == 2]\n",
    "extra_column= data_frame.columns.difference(original_column)\n",
    "\n",
    "\n",
    "#=============Finding Others==================================\n",
    "\n",
    "total_concat = pd.concat([lcs_df_NG,lcs_df_OEM,axima_duc_df,axima_pip_df,modular_df,pipe_df,electrical_df])\n",
    "for i in range(len(sheet_list)):\n",
    "    df_filter=data_frame['Mid']==sheet_list[i]\n",
    "    sample1_df= data_frame[df_filter]\n",
    "    total_concat = pd.concat([total_concat, sample1_df])\n",
    "\n",
    "difference = pd.concat([total_concat,original_df]).drop_duplicates(keep=False)"
   ]
  },
  {
   "cell_type": "code",
   "execution_count": 54,
   "metadata": {},
   "outputs": [],
   "source": [
    "total_concat.head()\n",
    "total_concat.to_csv (r'/mnt/d/Filtered.csv', index = False, header = True)"
   ]
  },
  {
   "cell_type": "code",
   "execution_count": 55,
   "metadata": {},
   "outputs": [],
   "source": [
    "original_df.to_csv (r'/mnt/d/Unfiltered.csv', index = False, header = True)"
   ]
  },
  {
   "cell_type": "code",
   "execution_count": 57,
   "metadata": {},
   "outputs": [
    {
     "data": {
      "text/plain": [
       "(27, 19)"
      ]
     },
     "execution_count": 57,
     "metadata": {},
     "output_type": "execute_result"
    }
   ],
   "source": [
    "difference.shape"
   ]
  },
  {
   "cell_type": "code",
   "execution_count": null,
   "metadata": {},
   "outputs": [],
   "source": []
  }
 ],
 "metadata": {
  "kernelspec": {
   "display_name": "Python 3",
   "language": "python",
   "name": "python3"
  },
  "language_info": {
   "codemirror_mode": {
    "name": "ipython",
    "version": 3
   },
   "file_extension": ".py",
   "mimetype": "text/x-python",
   "name": "python",
   "nbconvert_exporter": "python",
   "pygments_lexer": "ipython3",
   "version": "3.7.6"
  }
 },
 "nbformat": 4,
 "nbformat_minor": 2
}
