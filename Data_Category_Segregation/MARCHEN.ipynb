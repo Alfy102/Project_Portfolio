{
 "cells": [
  {
   "cell_type": "code",
   "execution_count": 48,
   "metadata": {},
   "outputs": [],
   "source": [
    "import pandas as pd\n",
    "import array as arr\n",
    "import numpy as np\n",
    "import openpyxl as op\n",
    "import sys\n",
    "import optparse\n",
    "\n",
    "file_name = \"MARS_SIMPLE.xlsx\"\n",
    "data_frame=pd.read_excel(file_name)\n",
    "\n",
    "df_new = data_frame.drop([data_frame.columns[3],data_frame.columns[5],data_frame.columns[6],data_frame.columns[7],data_frame.columns[9],data_frame.columns[10]], 1)\n",
    "\n",
    "\n"
   ]
  },
  {
   "cell_type": "code",
   "execution_count": 49,
   "metadata": {},
   "outputs": [],
   "source": [
    "df_new['Filter1'] = df_new['Drawing No.'].str.contains(\"-\") #Filter1 removes non-serial data type\n",
    "filter_str=df_new['Filter1']==True\n",
    "df_new=df_new[filter_str]\n",
    "df_new['Filter1'] = df_new['Drawing No.'].str.contains(\"%\") #Filter1 removes non-serial data type\n",
    "filter_str=df_new['Filter1']==False\n",
    "df_new=df_new[filter_str]\n",
    "df_new=df_new[filter_str]\n",
    "df_new = df_new.replace(np.nan, 'N/A', regex=True)"
   ]
  },
  {
   "cell_type": "code",
   "execution_count": 50,
   "metadata": {},
   "outputs": [],
   "source": [
    "df_new = df_new.drop(['Filter1'], 1)\n"
   ]
  },
  {
   "cell_type": "code",
   "execution_count": 51,
   "metadata": {},
   "outputs": [],
   "source": [
    "df_new['dash_check'] = df_new['Drawing No.'].str.count(\"-\")\n"
   ]
  },
  {
   "cell_type": "code",
   "execution_count": 52,
   "metadata": {},
   "outputs": [],
   "source": [
    "df_new['Filter1'] = df_new['dash_check'] == 4 #Filter1 removes unwanted drawing number\n",
    "filter_str=df_new['Filter1']==True\n",
    "df_new=df_new[filter_str]\n",
    "df_new = df_new.drop(['Filter1', 'dash_check'], 1)"
   ]
  },
  {
   "cell_type": "code",
   "execution_count": 53,
   "metadata": {},
   "outputs": [],
   "source": [
    "df_new[['System', 'Family', 'Sub-System', 'Sub-Category', 'Page']] = df_new['Drawing No.'].str.split('-', expand=True)\n"
   ]
  },
  {
   "cell_type": "code",
   "execution_count": 55,
   "metadata": {},
   "outputs": [],
   "source": [
    "df_new.to_csv('mars_main_dataframe.csv')"
   ]
  },
  {
   "cell_type": "code",
   "execution_count": null,
   "metadata": {},
   "outputs": [],
   "source": []
  }
 ],
 "metadata": {
  "language_info": {
   "codemirror_mode": {
    "name": "ipython",
    "version": 3
   },
   "file_extension": ".py",
   "mimetype": "text/x-python",
   "name": "python",
   "nbconvert_exporter": "python",
   "pygments_lexer": "ipython3",
   "version": "3.7.7-final"
  },
  "orig_nbformat": 2,
  "kernelspec": {
   "name": "python3",
   "display_name": "Python 3"
  }
 },
 "nbformat": 4,
 "nbformat_minor": 2
}