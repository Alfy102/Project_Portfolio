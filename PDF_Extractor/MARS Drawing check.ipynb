{
 "cells": [
  {
   "cell_type": "code",
   "execution_count": 1,
   "metadata": {},
   "outputs": [
    {
     "name": "stdout",
     "output_type": "stream",
     "text": [
      "Checking for newly added/updated files\n"
     ]
    }
   ],
   "source": [
    "import pandas as pd\n",
    "from os import listdir\n",
    "import os \n",
    "import os.path, time\n",
    "import subprocess\n",
    "import optparse\n",
    "import pandas as pd\n",
    "import csv\n",
    "from progress.bar import IncrementalBar\n",
    "import tempfile\n",
    "import PyPDF2\n",
    "source_path = str(r\"/mnt/c/Users/salmo02/OneDrive - Boustead Heavy Industries Corporation Berhad/LCS1 Drawings/\")\n",
    "\n",
    "#----------use temporary directory-------------------\n",
    "#o_path = tempfile.TemporaryDirectory(dir = \"/mnt/d/\")\n",
    "#print(o_path.name)\n",
    "output_path_pdf = str(\"/mnt/d/output/pdf/\")\n",
    "output_path_txt = str(\"/mnt/d/output/txt/\")\n",
    "#------------------------------------------------------------\n",
    "print(\"Checking for newly added/updated files\")\n",
    "try:\n",
    "    keywords_data_frame = pd.read_csv('/mnt/d/keywords.csv')\n",
    "    flag_keywords=True\n",
    "except:\n",
    "    keywords_data_frame = pd.DataFrame(columns=[\"Filename\", \"Keywords\",\"Revision\",\"Drawing_Number\",\"Mid\",\"Created\"])\n",
    "    flag_keywords=False\n",
    "inputfiles = listdir(source_path)\n"
   ]
  },
  {
   "cell_type": "code",
   "execution_count": 2,
   "metadata": {},
   "outputs": [
    {
     "name": "stdout",
     "output_type": "stream",
     "text": [
      "<class 'list'>\n"
     ]
    }
   ],
   "source": [
    "print(type(inputfiles))"
   ]
  },
  {
   "cell_type": "code",
   "execution_count": 3,
   "metadata": {},
   "outputs": [
    {
     "name": "stdout",
     "output_type": "stream",
     "text": [
      "18359\n"
     ]
    }
   ],
   "source": [
    "print(len(inputfiles))"
   ]
  },
  {
   "cell_type": "code",
   "execution_count": 4,
   "metadata": {},
   "outputs": [
    {
     "name": "stdout",
     "output_type": "stream",
     "text": [
      "Done.\n"
     ]
    }
   ],
   "source": [
    "input_data_frame = pd.DataFrame(inputfiles, columns=[\"Input_Files\"])\n",
    "input_data_frame['Input_Revision'] = input_data_frame['Input_Files'].str[-6:-4]\n",
    "input_data_frame['Drawing_Number'] = input_data_frame['Input_Files'].str[:-6]\n",
    "\n",
    "#new_drawings = input_data_frame[((input_data_frame['Drawing_Number'].isin(keywords_data_frame['Drawing_Number']))==False) & ((input_data_frame['Input_Files'].str.contains(\" \"))==False) & ((input_data_frame['Input_Files'].str.endswith(\"pdf\")==True) | (input_data_frame['Input_Files'].str.endswith(\"PDF\")==True))]\n",
    "print(\"Done.\")\n",
    "new_drawings = input_data_frame[((input_data_frame['Drawing_Number'].isin(keywords_data_frame['Drawing_Number']))==False)]"
   ]
  },
  {
   "cell_type": "code",
   "execution_count": 5,
   "metadata": {},
   "outputs": [
    {
     "data": {
      "text/html": [
       "<div>\n",
       "<style scoped>\n",
       "    .dataframe tbody tr th:only-of-type {\n",
       "        vertical-align: middle;\n",
       "    }\n",
       "\n",
       "    .dataframe tbody tr th {\n",
       "        vertical-align: top;\n",
       "    }\n",
       "\n",
       "    .dataframe thead th {\n",
       "        text-align: right;\n",
       "    }\n",
       "</style>\n",
       "<table border=\"1\" class=\"dataframe\">\n",
       "  <thead>\n",
       "    <tr style=\"text-align: right;\">\n",
       "      <th></th>\n",
       "      <th>Input_Files</th>\n",
       "      <th>Input_Revision</th>\n",
       "      <th>Drawing_Number</th>\n",
       "    </tr>\n",
       "  </thead>\n",
       "  <tbody>\n",
       "    <tr>\n",
       "      <th>0</th>\n",
       "      <td>06100-09-00401-01-1AA.pdf</td>\n",
       "      <td>AA</td>\n",
       "      <td>06100-09-00401-01-1</td>\n",
       "    </tr>\n",
       "    <tr>\n",
       "      <th>1</th>\n",
       "      <td>06100-09-00401-02-1AA.pdf</td>\n",
       "      <td>AA</td>\n",
       "      <td>06100-09-00401-02-1</td>\n",
       "    </tr>\n",
       "    <tr>\n",
       "      <th>2</th>\n",
       "      <td>06100-09-00401-03-1AA.pdf</td>\n",
       "      <td>AA</td>\n",
       "      <td>06100-09-00401-03-1</td>\n",
       "    </tr>\n",
       "    <tr>\n",
       "      <th>3</th>\n",
       "      <td>06100-09-00401-04-1AA.pdf</td>\n",
       "      <td>AA</td>\n",
       "      <td>06100-09-00401-04-1</td>\n",
       "    </tr>\n",
       "    <tr>\n",
       "      <th>4</th>\n",
       "      <td>06100-09-00401-05-1AA.pdf</td>\n",
       "      <td>AA</td>\n",
       "      <td>06100-09-00401-05-1</td>\n",
       "    </tr>\n",
       "  </tbody>\n",
       "</table>\n",
       "</div>"
      ],
      "text/plain": [
       "                 Input_Files Input_Revision       Drawing_Number\n",
       "0  06100-09-00401-01-1AA.pdf             AA  06100-09-00401-01-1\n",
       "1  06100-09-00401-02-1AA.pdf             AA  06100-09-00401-02-1\n",
       "2  06100-09-00401-03-1AA.pdf             AA  06100-09-00401-03-1\n",
       "3  06100-09-00401-04-1AA.pdf             AA  06100-09-00401-04-1\n",
       "4  06100-09-00401-05-1AA.pdf             AA  06100-09-00401-05-1"
      ]
     },
     "execution_count": 5,
     "metadata": {},
     "output_type": "execute_result"
    }
   ],
   "source": [
    "new_drawings.head()"
   ]
  },
  {
   "cell_type": "code",
   "execution_count": 6,
   "metadata": {},
   "outputs": [
    {
     "name": "stdout",
     "output_type": "stream",
     "text": [
      "18359\n"
     ]
    }
   ],
   "source": [
    "print(len(list(new_drawings['Input_Files'])))"
   ]
  },
  {
   "cell_type": "code",
   "execution_count": 7,
   "metadata": {},
   "outputs": [
    {
     "name": "stdout",
     "output_type": "stream",
     "text": [
      "\n",
      "\n"
     ]
    }
   ],
   "source": [
    "\n",
    "#---------------------decrypt PDF files-----------------------\n",
    "\n",
    "inputfiles = list(new_drawings['Input_Files'])\n",
    "bar = IncrementalBar('Decrypting', max=len(inputfiles))\n",
    "for i in range(len(inputfiles)):\n",
    "    file_name = str(source_path + inputfiles[i])\n",
    "    try:\n",
    "        bashCommand = \"qpdf --decrypt '\" + file_name + \"' '\"+ output_path_pdf +\"unlock_\" + inputfiles[i] + \"'\"\n",
    "        subprocess.check_output(['bash','-c', bashCommand])\n",
    "    except:\n",
    "        continue\n",
    "    bar.next()\n",
    "bar.finish()\n",
    "print(\"\\n\")\n",
    "#------------------------------------------------------------"
   ]
  }
 ],
 "metadata": {
  "kernelspec": {
   "display_name": "Python 3",
   "language": "python",
   "name": "python3"
  },
  "language_info": {
   "codemirror_mode": {
    "name": "ipython",
    "version": 3
   },
   "file_extension": ".py",
   "mimetype": "text/x-python",
   "name": "python",
   "nbconvert_exporter": "python",
   "pygments_lexer": "ipython3",
   "version": "3.8.3"
  }
 },
 "nbformat": 4,
 "nbformat_minor": 4
}
